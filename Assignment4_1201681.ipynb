{
  "nbformat": 4,
  "nbformat_minor": 0,
  "metadata": {
    "colab": {
      "provenance": [],
      "collapsed_sections": [
        "RGcDIK0vDPaD",
        "zdX2rZblDh57",
        "oJwHLoXHD0Wa",
        "6-QVDcSoHRsq",
        "ROurJcy_HZ7D",
        "TE7iBrOmq7u-"
      ]
    },
    "kernelspec": {
      "name": "python3",
      "display_name": "Python 3"
    },
    "language_info": {
      "name": "python"
    }
  },
  "cells": [
    {
      "cell_type": "markdown",
      "source": [
        "## Eyas Shalhoub **1201681**  "
      ],
      "metadata": {
        "id": "9fknpBv-CkFa"
      }
    },
    {
      "cell_type": "markdown",
      "source": [
        "# Data frame initialization"
      ],
      "metadata": {
        "id": "EY1fMASnXtEq"
      }
    },
    {
      "cell_type": "markdown",
      "source": [
        "## Import the needed libriries for the project"
      ],
      "metadata": {
        "id": "ZxdmVxlLG-vs"
      }
    },
    {
      "cell_type": "code",
      "source": [
        "import numpy as np\n",
        "import pandas as pd\n",
        "import matplotlib.pyplot as plt\n",
        "import warnings\n",
        "warnings.filterwarnings(\"ignore\", category=DeprecationWarning)\n",
        "pd.options.mode.chained_assignment = None"
      ],
      "metadata": {
        "id": "f5ucKSWtXrhs"
      },
      "execution_count": 60,
      "outputs": []
    },
    {
      "cell_type": "markdown",
      "source": [
        "## Dataset Description\n",
        "This dataset presents information about pit stops in formula one races around the world.\n",
        "A pit stop is when a team decides to change the tiers of a car, fix the car or serve a penalty.\n",
        "\n",
        "This data set was taken from the site Kaggle by the creator Qpm:\n",
        "https://www.kaggle.com/datasets/debashish311601/formula-1-official-data-19502022\n"
      ],
      "metadata": {
        "id": "q1BRwPG3HCRF"
      }
    },
    {
      "cell_type": "markdown",
      "source": [
        "Dictionary\n",
        "\n",
        "| Column      | Data Type | Description                                           |\n",
        "|-------------|-----------|-------------------------------------------------------|\n",
        "| Stops       | Integer   | Number of pit stops made during the race(for a driver).            |\n",
        "| No          | Integer   | Race number(Id).        |\n",
        "| Driver      | String    | Name of the driver participating in the race. |\n",
        "| Car         | String    | Name of the car driven by the driver.(Team)   |\n",
        "| Lap         | Integer   | Lap number during the race which the stop had happened at.                           |\n",
        "| Time        | Float     | Time taken to complete a pit stop.      |\n",
        "| Total       | Float     | Total time in the pit for a driver in a single race.                        |\n",
        "| Year        | Integer   | Year when the race occurred.                          |\n",
        "| Grand Prix  | String    | Name of the Grand Prix event(Race).           |"
      ],
      "metadata": {
        "id": "81WC3uAgTRL0"
      }
    },
    {
      "cell_type": "markdown",
      "source": [
        "## Loading Data\n",
        "Unnessary columns are dropped.\n"
      ],
      "metadata": {
        "id": "6vsQhAN44TkM"
      }
    },
    {
      "cell_type": "code",
      "execution_count": 61,
      "metadata": {
        "colab": {
          "base_uri": "https://localhost:8080/",
          "height": 442
        },
        "id": "D-oJu2rg1ViA",
        "outputId": "df51cee8-764d-459e-b420-124f01a6f2da"
      },
      "outputs": [
        {
          "output_type": "stream",
          "name": "stdout",
          "text": [
            "['Pit-Stop-Summary']\n"
          ]
        },
        {
          "output_type": "execute_result",
          "data": {
            "text/plain": [
              "       Stops  No            Driver                           Car  Lap  \\\n",
              "0          1  20        Erik Comas                Larrousse Ford    1   \n",
              "1          1   3     Ukyo Katayama                Tyrrell Yamaha   17   \n",
              "2          1   7     Mika Hakkinen               McLaren Peugeot   18   \n",
              "3          1   0        Damon Hill              Williams Renault   18   \n",
              "4          1  24  Michele Alboreto                  Minardi Ford   19   \n",
              "...      ...  ..               ...                           ...  ...   \n",
              "20288      2   6   Nicholas Latifi             Williams Mercedes   38   \n",
              "20289      2  18      Lance Stroll  Aston Martin Aramco Mercedes   40   \n",
              "20290      2  31      Esteban Ocon                Alpine Renault   41   \n",
              "20291      2   4      Lando Norris              McLaren Mercedes   42   \n",
              "20292      2  24       Zhou Guanyu            Alfa Romeo Ferrari   44   \n",
              "\n",
              "      Time of day                Time   Total  Year Grand Prix  \\\n",
              "0        14:01:34  49.111000000000004  49.111  1994    Pacific   \n",
              "1        14:20:46              28.482  28.482  1994    Pacific   \n",
              "2        14:22:35              43.745  43.745  1994    Pacific   \n",
              "3        14:23:00  21.991999999999997  21.992  1994    Pacific   \n",
              "4        14:24:39              27.693  27.693  1994    Pacific   \n",
              "...           ...                 ...     ...   ...        ...   \n",
              "20288    18:02:50              25.174  47.597  2022  Abu Dhabi   \n",
              "20289    18:04:44              21.802  43.616  2022  Abu Dhabi   \n",
              "20290    18:06:09              21.734  43.629  2022  Abu Dhabi   \n",
              "20291    18:07:36              21.559  43.793  2022  Abu Dhabi   \n",
              "20292    18:11:10              23.159  45.594  2022  Abu Dhabi   \n",
              "\n",
              "                 Detail DriverCode  \n",
              "0      Pit-Stop-Summary        COM  \n",
              "1      Pit-Stop-Summary        KAT  \n",
              "2      Pit-Stop-Summary        HAK  \n",
              "3      Pit-Stop-Summary        HIL  \n",
              "4      Pit-Stop-Summary        ALB  \n",
              "...                 ...        ...  \n",
              "20288  Pit-Stop-Summary        LAT  \n",
              "20289  Pit-Stop-Summary        STR  \n",
              "20290  Pit-Stop-Summary        OCO  \n",
              "20291  Pit-Stop-Summary        NOR  \n",
              "20292  Pit-Stop-Summary        ZHO  \n",
              "\n",
              "[20293 rows x 12 columns]"
            ],
            "text/html": [
              "\n",
              "  <div id=\"df-d5af388f-a5fd-4699-9d63-47ad3a26d1d1\" class=\"colab-df-container\">\n",
              "    <div>\n",
              "<style scoped>\n",
              "    .dataframe tbody tr th:only-of-type {\n",
              "        vertical-align: middle;\n",
              "    }\n",
              "\n",
              "    .dataframe tbody tr th {\n",
              "        vertical-align: top;\n",
              "    }\n",
              "\n",
              "    .dataframe thead th {\n",
              "        text-align: right;\n",
              "    }\n",
              "</style>\n",
              "<table border=\"1\" class=\"dataframe\">\n",
              "  <thead>\n",
              "    <tr style=\"text-align: right;\">\n",
              "      <th></th>\n",
              "      <th>Stops</th>\n",
              "      <th>No</th>\n",
              "      <th>Driver</th>\n",
              "      <th>Car</th>\n",
              "      <th>Lap</th>\n",
              "      <th>Time of day</th>\n",
              "      <th>Time</th>\n",
              "      <th>Total</th>\n",
              "      <th>Year</th>\n",
              "      <th>Grand Prix</th>\n",
              "      <th>Detail</th>\n",
              "      <th>DriverCode</th>\n",
              "    </tr>\n",
              "  </thead>\n",
              "  <tbody>\n",
              "    <tr>\n",
              "      <th>0</th>\n",
              "      <td>1</td>\n",
              "      <td>20</td>\n",
              "      <td>Erik Comas</td>\n",
              "      <td>Larrousse Ford</td>\n",
              "      <td>1</td>\n",
              "      <td>14:01:34</td>\n",
              "      <td>49.111000000000004</td>\n",
              "      <td>49.111</td>\n",
              "      <td>1994</td>\n",
              "      <td>Pacific</td>\n",
              "      <td>Pit-Stop-Summary</td>\n",
              "      <td>COM</td>\n",
              "    </tr>\n",
              "    <tr>\n",
              "      <th>1</th>\n",
              "      <td>1</td>\n",
              "      <td>3</td>\n",
              "      <td>Ukyo Katayama</td>\n",
              "      <td>Tyrrell Yamaha</td>\n",
              "      <td>17</td>\n",
              "      <td>14:20:46</td>\n",
              "      <td>28.482</td>\n",
              "      <td>28.482</td>\n",
              "      <td>1994</td>\n",
              "      <td>Pacific</td>\n",
              "      <td>Pit-Stop-Summary</td>\n",
              "      <td>KAT</td>\n",
              "    </tr>\n",
              "    <tr>\n",
              "      <th>2</th>\n",
              "      <td>1</td>\n",
              "      <td>7</td>\n",
              "      <td>Mika Hakkinen</td>\n",
              "      <td>McLaren Peugeot</td>\n",
              "      <td>18</td>\n",
              "      <td>14:22:35</td>\n",
              "      <td>43.745</td>\n",
              "      <td>43.745</td>\n",
              "      <td>1994</td>\n",
              "      <td>Pacific</td>\n",
              "      <td>Pit-Stop-Summary</td>\n",
              "      <td>HAK</td>\n",
              "    </tr>\n",
              "    <tr>\n",
              "      <th>3</th>\n",
              "      <td>1</td>\n",
              "      <td>0</td>\n",
              "      <td>Damon Hill</td>\n",
              "      <td>Williams Renault</td>\n",
              "      <td>18</td>\n",
              "      <td>14:23:00</td>\n",
              "      <td>21.991999999999997</td>\n",
              "      <td>21.992</td>\n",
              "      <td>1994</td>\n",
              "      <td>Pacific</td>\n",
              "      <td>Pit-Stop-Summary</td>\n",
              "      <td>HIL</td>\n",
              "    </tr>\n",
              "    <tr>\n",
              "      <th>4</th>\n",
              "      <td>1</td>\n",
              "      <td>24</td>\n",
              "      <td>Michele Alboreto</td>\n",
              "      <td>Minardi Ford</td>\n",
              "      <td>19</td>\n",
              "      <td>14:24:39</td>\n",
              "      <td>27.693</td>\n",
              "      <td>27.693</td>\n",
              "      <td>1994</td>\n",
              "      <td>Pacific</td>\n",
              "      <td>Pit-Stop-Summary</td>\n",
              "      <td>ALB</td>\n",
              "    </tr>\n",
              "    <tr>\n",
              "      <th>...</th>\n",
              "      <td>...</td>\n",
              "      <td>...</td>\n",
              "      <td>...</td>\n",
              "      <td>...</td>\n",
              "      <td>...</td>\n",
              "      <td>...</td>\n",
              "      <td>...</td>\n",
              "      <td>...</td>\n",
              "      <td>...</td>\n",
              "      <td>...</td>\n",
              "      <td>...</td>\n",
              "      <td>...</td>\n",
              "    </tr>\n",
              "    <tr>\n",
              "      <th>20288</th>\n",
              "      <td>2</td>\n",
              "      <td>6</td>\n",
              "      <td>Nicholas Latifi</td>\n",
              "      <td>Williams Mercedes</td>\n",
              "      <td>38</td>\n",
              "      <td>18:02:50</td>\n",
              "      <td>25.174</td>\n",
              "      <td>47.597</td>\n",
              "      <td>2022</td>\n",
              "      <td>Abu Dhabi</td>\n",
              "      <td>Pit-Stop-Summary</td>\n",
              "      <td>LAT</td>\n",
              "    </tr>\n",
              "    <tr>\n",
              "      <th>20289</th>\n",
              "      <td>2</td>\n",
              "      <td>18</td>\n",
              "      <td>Lance Stroll</td>\n",
              "      <td>Aston Martin Aramco Mercedes</td>\n",
              "      <td>40</td>\n",
              "      <td>18:04:44</td>\n",
              "      <td>21.802</td>\n",
              "      <td>43.616</td>\n",
              "      <td>2022</td>\n",
              "      <td>Abu Dhabi</td>\n",
              "      <td>Pit-Stop-Summary</td>\n",
              "      <td>STR</td>\n",
              "    </tr>\n",
              "    <tr>\n",
              "      <th>20290</th>\n",
              "      <td>2</td>\n",
              "      <td>31</td>\n",
              "      <td>Esteban Ocon</td>\n",
              "      <td>Alpine Renault</td>\n",
              "      <td>41</td>\n",
              "      <td>18:06:09</td>\n",
              "      <td>21.734</td>\n",
              "      <td>43.629</td>\n",
              "      <td>2022</td>\n",
              "      <td>Abu Dhabi</td>\n",
              "      <td>Pit-Stop-Summary</td>\n",
              "      <td>OCO</td>\n",
              "    </tr>\n",
              "    <tr>\n",
              "      <th>20291</th>\n",
              "      <td>2</td>\n",
              "      <td>4</td>\n",
              "      <td>Lando Norris</td>\n",
              "      <td>McLaren Mercedes</td>\n",
              "      <td>42</td>\n",
              "      <td>18:07:36</td>\n",
              "      <td>21.559</td>\n",
              "      <td>43.793</td>\n",
              "      <td>2022</td>\n",
              "      <td>Abu Dhabi</td>\n",
              "      <td>Pit-Stop-Summary</td>\n",
              "      <td>NOR</td>\n",
              "    </tr>\n",
              "    <tr>\n",
              "      <th>20292</th>\n",
              "      <td>2</td>\n",
              "      <td>24</td>\n",
              "      <td>Zhou Guanyu</td>\n",
              "      <td>Alfa Romeo Ferrari</td>\n",
              "      <td>44</td>\n",
              "      <td>18:11:10</td>\n",
              "      <td>23.159</td>\n",
              "      <td>45.594</td>\n",
              "      <td>2022</td>\n",
              "      <td>Abu Dhabi</td>\n",
              "      <td>Pit-Stop-Summary</td>\n",
              "      <td>ZHO</td>\n",
              "    </tr>\n",
              "  </tbody>\n",
              "</table>\n",
              "<p>20293 rows × 12 columns</p>\n",
              "</div>\n",
              "    <div class=\"colab-df-buttons\">\n",
              "\n",
              "  <div class=\"colab-df-container\">\n",
              "    <button class=\"colab-df-convert\" onclick=\"convertToInteractive('df-d5af388f-a5fd-4699-9d63-47ad3a26d1d1')\"\n",
              "            title=\"Convert this dataframe to an interactive table.\"\n",
              "            style=\"display:none;\">\n",
              "\n",
              "  <svg xmlns=\"http://www.w3.org/2000/svg\" height=\"24px\" viewBox=\"0 -960 960 960\">\n",
              "    <path d=\"M120-120v-720h720v720H120Zm60-500h600v-160H180v160Zm220 220h160v-160H400v160Zm0 220h160v-160H400v160ZM180-400h160v-160H180v160Zm440 0h160v-160H620v160ZM180-180h160v-160H180v160Zm440 0h160v-160H620v160Z\"/>\n",
              "  </svg>\n",
              "    </button>\n",
              "\n",
              "  <style>\n",
              "    .colab-df-container {\n",
              "      display:flex;\n",
              "      gap: 12px;\n",
              "    }\n",
              "\n",
              "    .colab-df-convert {\n",
              "      background-color: #E8F0FE;\n",
              "      border: none;\n",
              "      border-radius: 50%;\n",
              "      cursor: pointer;\n",
              "      display: none;\n",
              "      fill: #1967D2;\n",
              "      height: 32px;\n",
              "      padding: 0 0 0 0;\n",
              "      width: 32px;\n",
              "    }\n",
              "\n",
              "    .colab-df-convert:hover {\n",
              "      background-color: #E2EBFA;\n",
              "      box-shadow: 0px 1px 2px rgba(60, 64, 67, 0.3), 0px 1px 3px 1px rgba(60, 64, 67, 0.15);\n",
              "      fill: #174EA6;\n",
              "    }\n",
              "\n",
              "    .colab-df-buttons div {\n",
              "      margin-bottom: 4px;\n",
              "    }\n",
              "\n",
              "    [theme=dark] .colab-df-convert {\n",
              "      background-color: #3B4455;\n",
              "      fill: #D2E3FC;\n",
              "    }\n",
              "\n",
              "    [theme=dark] .colab-df-convert:hover {\n",
              "      background-color: #434B5C;\n",
              "      box-shadow: 0px 1px 3px 1px rgba(0, 0, 0, 0.15);\n",
              "      filter: drop-shadow(0px 1px 2px rgba(0, 0, 0, 0.3));\n",
              "      fill: #FFFFFF;\n",
              "    }\n",
              "  </style>\n",
              "\n",
              "    <script>\n",
              "      const buttonEl =\n",
              "        document.querySelector('#df-d5af388f-a5fd-4699-9d63-47ad3a26d1d1 button.colab-df-convert');\n",
              "      buttonEl.style.display =\n",
              "        google.colab.kernel.accessAllowed ? 'block' : 'none';\n",
              "\n",
              "      async function convertToInteractive(key) {\n",
              "        const element = document.querySelector('#df-d5af388f-a5fd-4699-9d63-47ad3a26d1d1');\n",
              "        const dataTable =\n",
              "          await google.colab.kernel.invokeFunction('convertToInteractive',\n",
              "                                                    [key], {});\n",
              "        if (!dataTable) return;\n",
              "\n",
              "        const docLinkHtml = 'Like what you see? Visit the ' +\n",
              "          '<a target=\"_blank\" href=https://colab.research.google.com/notebooks/data_table.ipynb>data table notebook</a>'\n",
              "          + ' to learn more about interactive tables.';\n",
              "        element.innerHTML = '';\n",
              "        dataTable['output_type'] = 'display_data';\n",
              "        await google.colab.output.renderOutput(dataTable, element);\n",
              "        const docLink = document.createElement('div');\n",
              "        docLink.innerHTML = docLinkHtml;\n",
              "        element.appendChild(docLink);\n",
              "      }\n",
              "    </script>\n",
              "  </div>\n",
              "\n",
              "\n",
              "<div id=\"df-dc0c1ee9-7f27-41f8-b630-4dadf70ca08e\">\n",
              "  <button class=\"colab-df-quickchart\" onclick=\"quickchart('df-dc0c1ee9-7f27-41f8-b630-4dadf70ca08e')\"\n",
              "            title=\"Suggest charts\"\n",
              "            style=\"display:none;\">\n",
              "\n",
              "<svg xmlns=\"http://www.w3.org/2000/svg\" height=\"24px\"viewBox=\"0 0 24 24\"\n",
              "     width=\"24px\">\n",
              "    <g>\n",
              "        <path d=\"M19 3H5c-1.1 0-2 .9-2 2v14c0 1.1.9 2 2 2h14c1.1 0 2-.9 2-2V5c0-1.1-.9-2-2-2zM9 17H7v-7h2v7zm4 0h-2V7h2v10zm4 0h-2v-4h2v4z\"/>\n",
              "    </g>\n",
              "</svg>\n",
              "  </button>\n",
              "\n",
              "<style>\n",
              "  .colab-df-quickchart {\n",
              "      --bg-color: #E8F0FE;\n",
              "      --fill-color: #1967D2;\n",
              "      --hover-bg-color: #E2EBFA;\n",
              "      --hover-fill-color: #174EA6;\n",
              "      --disabled-fill-color: #AAA;\n",
              "      --disabled-bg-color: #DDD;\n",
              "  }\n",
              "\n",
              "  [theme=dark] .colab-df-quickchart {\n",
              "      --bg-color: #3B4455;\n",
              "      --fill-color: #D2E3FC;\n",
              "      --hover-bg-color: #434B5C;\n",
              "      --hover-fill-color: #FFFFFF;\n",
              "      --disabled-bg-color: #3B4455;\n",
              "      --disabled-fill-color: #666;\n",
              "  }\n",
              "\n",
              "  .colab-df-quickchart {\n",
              "    background-color: var(--bg-color);\n",
              "    border: none;\n",
              "    border-radius: 50%;\n",
              "    cursor: pointer;\n",
              "    display: none;\n",
              "    fill: var(--fill-color);\n",
              "    height: 32px;\n",
              "    padding: 0;\n",
              "    width: 32px;\n",
              "  }\n",
              "\n",
              "  .colab-df-quickchart:hover {\n",
              "    background-color: var(--hover-bg-color);\n",
              "    box-shadow: 0 1px 2px rgba(60, 64, 67, 0.3), 0 1px 3px 1px rgba(60, 64, 67, 0.15);\n",
              "    fill: var(--button-hover-fill-color);\n",
              "  }\n",
              "\n",
              "  .colab-df-quickchart-complete:disabled,\n",
              "  .colab-df-quickchart-complete:disabled:hover {\n",
              "    background-color: var(--disabled-bg-color);\n",
              "    fill: var(--disabled-fill-color);\n",
              "    box-shadow: none;\n",
              "  }\n",
              "\n",
              "  .colab-df-spinner {\n",
              "    border: 2px solid var(--fill-color);\n",
              "    border-color: transparent;\n",
              "    border-bottom-color: var(--fill-color);\n",
              "    animation:\n",
              "      spin 1s steps(1) infinite;\n",
              "  }\n",
              "\n",
              "  @keyframes spin {\n",
              "    0% {\n",
              "      border-color: transparent;\n",
              "      border-bottom-color: var(--fill-color);\n",
              "      border-left-color: var(--fill-color);\n",
              "    }\n",
              "    20% {\n",
              "      border-color: transparent;\n",
              "      border-left-color: var(--fill-color);\n",
              "      border-top-color: var(--fill-color);\n",
              "    }\n",
              "    30% {\n",
              "      border-color: transparent;\n",
              "      border-left-color: var(--fill-color);\n",
              "      border-top-color: var(--fill-color);\n",
              "      border-right-color: var(--fill-color);\n",
              "    }\n",
              "    40% {\n",
              "      border-color: transparent;\n",
              "      border-right-color: var(--fill-color);\n",
              "      border-top-color: var(--fill-color);\n",
              "    }\n",
              "    60% {\n",
              "      border-color: transparent;\n",
              "      border-right-color: var(--fill-color);\n",
              "    }\n",
              "    80% {\n",
              "      border-color: transparent;\n",
              "      border-right-color: var(--fill-color);\n",
              "      border-bottom-color: var(--fill-color);\n",
              "    }\n",
              "    90% {\n",
              "      border-color: transparent;\n",
              "      border-bottom-color: var(--fill-color);\n",
              "    }\n",
              "  }\n",
              "</style>\n",
              "\n",
              "  <script>\n",
              "    async function quickchart(key) {\n",
              "      const quickchartButtonEl =\n",
              "        document.querySelector('#' + key + ' button');\n",
              "      quickchartButtonEl.disabled = true;  // To prevent multiple clicks.\n",
              "      quickchartButtonEl.classList.add('colab-df-spinner');\n",
              "      try {\n",
              "        const charts = await google.colab.kernel.invokeFunction(\n",
              "            'suggestCharts', [key], {});\n",
              "      } catch (error) {\n",
              "        console.error('Error during call to suggestCharts:', error);\n",
              "      }\n",
              "      quickchartButtonEl.classList.remove('colab-df-spinner');\n",
              "      quickchartButtonEl.classList.add('colab-df-quickchart-complete');\n",
              "    }\n",
              "    (() => {\n",
              "      let quickchartButtonEl =\n",
              "        document.querySelector('#df-dc0c1ee9-7f27-41f8-b630-4dadf70ca08e button');\n",
              "      quickchartButtonEl.style.display =\n",
              "        google.colab.kernel.accessAllowed ? 'block' : 'none';\n",
              "    })();\n",
              "  </script>\n",
              "</div>\n",
              "\n",
              "  <div id=\"id_f72fc83d-5c13-4f04-991d-341104561e1c\">\n",
              "    <style>\n",
              "      .colab-df-generate {\n",
              "        background-color: #E8F0FE;\n",
              "        border: none;\n",
              "        border-radius: 50%;\n",
              "        cursor: pointer;\n",
              "        display: none;\n",
              "        fill: #1967D2;\n",
              "        height: 32px;\n",
              "        padding: 0 0 0 0;\n",
              "        width: 32px;\n",
              "      }\n",
              "\n",
              "      .colab-df-generate:hover {\n",
              "        background-color: #E2EBFA;\n",
              "        box-shadow: 0px 1px 2px rgba(60, 64, 67, 0.3), 0px 1px 3px 1px rgba(60, 64, 67, 0.15);\n",
              "        fill: #174EA6;\n",
              "      }\n",
              "\n",
              "      [theme=dark] .colab-df-generate {\n",
              "        background-color: #3B4455;\n",
              "        fill: #D2E3FC;\n",
              "      }\n",
              "\n",
              "      [theme=dark] .colab-df-generate:hover {\n",
              "        background-color: #434B5C;\n",
              "        box-shadow: 0px 1px 3px 1px rgba(0, 0, 0, 0.15);\n",
              "        filter: drop-shadow(0px 1px 2px rgba(0, 0, 0, 0.3));\n",
              "        fill: #FFFFFF;\n",
              "      }\n",
              "    </style>\n",
              "    <button class=\"colab-df-generate\" onclick=\"generateWithVariable('df')\"\n",
              "            title=\"Generate code using this dataframe.\"\n",
              "            style=\"display:none;\">\n",
              "\n",
              "  <svg xmlns=\"http://www.w3.org/2000/svg\" height=\"24px\"viewBox=\"0 0 24 24\"\n",
              "       width=\"24px\">\n",
              "    <path d=\"M7,19H8.4L18.45,9,17,7.55,7,17.6ZM5,21V16.75L18.45,3.32a2,2,0,0,1,2.83,0l1.4,1.43a1.91,1.91,0,0,1,.58,1.4,1.91,1.91,0,0,1-.58,1.4L9.25,21ZM18.45,9,17,7.55Zm-12,3A5.31,5.31,0,0,0,4.9,8.1,5.31,5.31,0,0,0,1,6.5,5.31,5.31,0,0,0,4.9,4.9,5.31,5.31,0,0,0,6.5,1,5.31,5.31,0,0,0,8.1,4.9,5.31,5.31,0,0,0,12,6.5,5.46,5.46,0,0,0,6.5,12Z\"/>\n",
              "  </svg>\n",
              "    </button>\n",
              "    <script>\n",
              "      (() => {\n",
              "      const buttonEl =\n",
              "        document.querySelector('#id_f72fc83d-5c13-4f04-991d-341104561e1c button.colab-df-generate');\n",
              "      buttonEl.style.display =\n",
              "        google.colab.kernel.accessAllowed ? 'block' : 'none';\n",
              "\n",
              "      buttonEl.onclick = () => {\n",
              "        google.colab.notebook.generateWithVariable('df');\n",
              "      }\n",
              "      })();\n",
              "    </script>\n",
              "  </div>\n",
              "\n",
              "    </div>\n",
              "  </div>\n"
            ],
            "application/vnd.google.colaboratory.intrinsic+json": {
              "type": "dataframe",
              "variable_name": "df",
              "summary": "{\n  \"name\": \"df\",\n  \"rows\": 20293,\n  \"fields\": [\n    {\n      \"column\": \"Stops\",\n      \"properties\": {\n        \"dtype\": \"number\",\n        \"std\": 0,\n        \"min\": 1,\n        \"max\": 6,\n        \"num_unique_values\": 6,\n        \"samples\": [\n          1,\n          2,\n          6\n        ],\n        \"semantic_type\": \"\",\n        \"description\": \"\"\n      }\n    },\n    {\n      \"column\": \"No\",\n      \"properties\": {\n        \"dtype\": \"number\",\n        \"std\": 17,\n        \"min\": 0,\n        \"max\": 99,\n        \"num_unique_values\": 53,\n        \"samples\": [\n          14,\n          53,\n          39\n        ],\n        \"semantic_type\": \"\",\n        \"description\": \"\"\n      }\n    },\n    {\n      \"column\": \"Driver\",\n      \"properties\": {\n        \"dtype\": \"category\",\n        \"num_unique_values\": 162,\n        \"samples\": [\n          \"Yuki Tsunoda\",\n          \"Nelson Piquet\",\n          \"Kevin Magnussen\"\n        ],\n        \"semantic_type\": \"\",\n        \"description\": \"\"\n      }\n    },\n    {\n      \"column\": \"Car\",\n      \"properties\": {\n        \"dtype\": \"category\",\n        \"num_unique_values\": 99,\n        \"samples\": [\n          \"Force India Ferrari\",\n          \"Minardi European\",\n          \"Red Bull Racing RBPT\"\n        ],\n        \"semantic_type\": \"\",\n        \"description\": \"\"\n      }\n    },\n    {\n      \"column\": \"Lap\",\n      \"properties\": {\n        \"dtype\": \"number\",\n        \"std\": 14,\n        \"min\": 1,\n        \"max\": 78,\n        \"num_unique_values\": 75,\n        \"samples\": [\n          22,\n          73,\n          31\n        ],\n        \"semantic_type\": \"\",\n        \"description\": \"\"\n      }\n    },\n    {\n      \"column\": \"Time of day\",\n      \"properties\": {\n        \"dtype\": \"object\",\n        \"num_unique_values\": 10221,\n        \"samples\": [\n          \"15:46:39\",\n          \"13:39:49\",\n          \"15:29:27\"\n        ],\n        \"semantic_type\": \"\",\n        \"description\": \"\"\n      }\n    },\n    {\n      \"column\": \"Time\",\n      \"properties\": {\n        \"dtype\": \"string\",\n        \"num_unique_values\": 13184,\n        \"samples\": [\n          \"37.591\",\n          \"21.464000000000002\",\n          \"25.096999999999998\"\n        ],\n        \"semantic_type\": \"\",\n        \"description\": \"\"\n      }\n    },\n    {\n      \"column\": \"Total\",\n      \"properties\": {\n        \"dtype\": \"string\",\n        \"num_unique_values\": 16609,\n        \"samples\": [\n          \"49.015\",\n          \"23.041999999999998\",\n          \"18:55.891\"\n        ],\n        \"semantic_type\": \"\",\n        \"description\": \"\"\n      }\n    },\n    {\n      \"column\": \"Year\",\n      \"properties\": {\n        \"dtype\": \"number\",\n        \"std\": 8,\n        \"min\": 1994,\n        \"max\": 2022,\n        \"num_unique_values\": 29,\n        \"samples\": [\n          2021,\n          2010,\n          2006\n        ],\n        \"semantic_type\": \"\",\n        \"description\": \"\"\n      }\n    },\n    {\n      \"column\": \"Grand Prix\",\n      \"properties\": {\n        \"dtype\": \"category\",\n        \"num_unique_values\": 41,\n        \"samples\": [\n          \"Singapore\",\n          \"Australia\",\n          \"Belgium\"\n        ],\n        \"semantic_type\": \"\",\n        \"description\": \"\"\n      }\n    },\n    {\n      \"column\": \"Detail\",\n      \"properties\": {\n        \"dtype\": \"category\",\n        \"num_unique_values\": 1,\n        \"samples\": [\n          \"Pit-Stop-Summary\"\n        ],\n        \"semantic_type\": \"\",\n        \"description\": \"\"\n      }\n    },\n    {\n      \"column\": \"DriverCode\",\n      \"properties\": {\n        \"dtype\": \"category\",\n        \"num_unique_values\": 140,\n        \"samples\": [\n          \"MAL\"\n        ],\n        \"semantic_type\": \"\",\n        \"description\": \"\"\n      }\n    }\n  ]\n}"
            }
          },
          "metadata": {},
          "execution_count": 61
        }
      ],
      "source": [
        "df =pd.read_csv('pitstops.csv')\n",
        "\n",
        "print(df['Detail'].unique())\n",
        "\n",
        "df"
      ]
    },
    {
      "cell_type": "markdown",
      "source": [
        "Since the column 'Detail' has one value, it is not needed for our data set.<br>\n",
        "The Column 'DriverCode' is equivelant to the column 'Driver', thus dropped.\n",
        "Also the column 'Time of day' is irrelivant to our analysis."
      ],
      "metadata": {
        "id": "6iJ6hDgrC6xm"
      }
    },
    {
      "cell_type": "code",
      "source": [
        "df =df.drop(columns=['DriverCode','Detail','Time of day'])"
      ],
      "metadata": {
        "id": "Yi0o0glxCGtz"
      },
      "execution_count": 62,
      "outputs": []
    },
    {
      "cell_type": "markdown",
      "source": [
        "## Data shape"
      ],
      "metadata": {
        "id": "cl3ZovZo97oL"
      }
    },
    {
      "cell_type": "code",
      "source": [
        "print(f\"The shape of the data set{df.shape}\")"
      ],
      "metadata": {
        "colab": {
          "base_uri": "https://localhost:8080/"
        },
        "id": "-ir2jHrV97w5",
        "outputId": "9ccd94cf-2912-493b-fd2e-32afec1e5846"
      },
      "execution_count": 63,
      "outputs": [
        {
          "output_type": "stream",
          "name": "stdout",
          "text": [
            "The shape of the data set(20293, 9)\n"
          ]
        }
      ]
    },
    {
      "cell_type": "markdown",
      "source": [
        "## Proccess the time column\n",
        "**PS**: Any data point with time longer than a minute is considered a retirement for the driver/car which is marked as `None` those data point are later droped."
      ],
      "metadata": {
        "id": "r3lqvaWh-5JQ"
      }
    },
    {
      "cell_type": "code",
      "source": [
        "def time_to_seconds(time_str):\n",
        "    try:\n",
        "        if not ':' in time_str :\n",
        "          return float(time_str)\n",
        "        else:\n",
        "            return None\n",
        "    except TypeError:\n",
        "        return float(time_str)\n",
        "\n",
        "df['Time'] = df['Time'].apply(time_to_seconds)\n",
        "df['Time']"
      ],
      "metadata": {
        "colab": {
          "base_uri": "https://localhost:8080/"
        },
        "id": "QdQUYE4n56zB",
        "outputId": "c788653d-f3f2-4f20-c552-72981a634a54"
      },
      "execution_count": 64,
      "outputs": [
        {
          "output_type": "execute_result",
          "data": {
            "text/plain": [
              "0        49.111\n",
              "1        28.482\n",
              "2        43.745\n",
              "3        21.992\n",
              "4        27.693\n",
              "          ...  \n",
              "20288    25.174\n",
              "20289    21.802\n",
              "20290    21.734\n",
              "20291    21.559\n",
              "20292    23.159\n",
              "Name: Time, Length: 20293, dtype: float64"
            ]
          },
          "metadata": {},
          "execution_count": 64
        }
      ]
    },
    {
      "cell_type": "markdown",
      "source": [
        "## Missing values\n"
      ],
      "metadata": {
        "id": "RGcDIK0vDPaD"
      }
    },
    {
      "cell_type": "markdown",
      "source": [
        "### Check for missing data in cells for each columns"
      ],
      "metadata": {
        "id": "zdX2rZblDh57"
      }
    },
    {
      "cell_type": "code",
      "source": [
        "print(df.isnull().sum())"
      ],
      "metadata": {
        "colab": {
          "base_uri": "https://localhost:8080/"
        },
        "id": "SAhyLEmuDiA-",
        "outputId": "4251f504-efa0-44e4-9a89-6a29d97ba262"
      },
      "execution_count": 65,
      "outputs": [
        {
          "output_type": "stream",
          "name": "stdout",
          "text": [
            "Stops           0\n",
            "No              0\n",
            "Driver          0\n",
            "Car             1\n",
            "Lap             0\n",
            "Time          588\n",
            "Total           0\n",
            "Year            0\n",
            "Grand Prix      0\n",
            "dtype: int64\n"
          ]
        }
      ]
    },
    {
      "cell_type": "markdown",
      "source": [
        "### Delete data points with missing values"
      ],
      "metadata": {
        "id": "oJwHLoXHD0Wa"
      }
    },
    {
      "cell_type": "code",
      "source": [
        "def checkforNan(df):\n",
        "  new_data = df.dropna(axis = 0, how ='any')\n",
        "  print(f\"Original dataframe size: {len(df)}\")\n",
        "  print(f\"New dataframe size: {len(new_data)}\")\n",
        "\n",
        "  if (len(new_data)<len(df)):# if a change was made replace the data frame\n",
        "    df=new_data\n",
        "  new_data=None\n",
        "  return df\n",
        "df=checkforNan(df)"
      ],
      "metadata": {
        "colab": {
          "base_uri": "https://localhost:8080/"
        },
        "id": "WH-c8y43z7IW",
        "outputId": "5641ba8f-dcd7-4994-95d9-ef564147d167"
      },
      "execution_count": 66,
      "outputs": [
        {
          "output_type": "stream",
          "name": "stdout",
          "text": [
            "Original dataframe size: 20293\n",
            "New dataframe size: 19704\n"
          ]
        }
      ]
    },
    {
      "cell_type": "markdown",
      "source": [
        "# Features analysis"
      ],
      "metadata": {
        "id": "QbAdJ2NH4YQg"
      }
    },
    {
      "cell_type": "markdown",
      "source": [
        "## Nominal Vs Numerical"
      ],
      "metadata": {
        "id": "6-QVDcSoHRsq"
      }
    },
    {
      "cell_type": "markdown",
      "source": [
        "Nominal Features:\n",
        "* Driver\n",
        "* Car\n",
        "* Grand Prix\n",
        "* No (raceId)\n",
        "\n",
        "Numerical Features:\n",
        "* Stops\n",
        "* Lap\n",
        "* Time\n",
        "* Total\n",
        "* Year"
      ],
      "metadata": {
        "id": "bj40AU5yEXwD"
      }
    },
    {
      "cell_type": "markdown",
      "source": [
        "## Ordinal Vs Categorical"
      ],
      "metadata": {
        "id": "ROurJcy_HZ7D"
      }
    },
    {
      "cell_type": "markdown",
      "source": [
        "Ordinal Features:\n",
        "* Lap\n",
        "* Year\n",
        "\n",
        "Categorical Features:\n",
        "* Driver\n",
        "* Car\n",
        "* Grand Prix\n",
        "* No (RaceId)"
      ],
      "metadata": {
        "id": "dEnnnWlfGlZK"
      }
    },
    {
      "cell_type": "markdown",
      "source": [
        "## Numerical features analysis"
      ],
      "metadata": {
        "id": "1bzu67aUHniv"
      }
    },
    {
      "cell_type": "code",
      "source": [
        "print(\"Pit stop time describtion\")\n",
        "print(df['Time'].describe())\n",
        "print(\"\\nPit lap describtion\")\n",
        "print(df['Lap'].describe())"
      ],
      "metadata": {
        "colab": {
          "base_uri": "https://localhost:8080/"
        },
        "id": "na8yYo7XT4AL",
        "outputId": "a12928ce-5ff8-4c39-afce-fdc0f4f0eb3d"
      },
      "execution_count": 67,
      "outputs": [
        {
          "output_type": "stream",
          "name": "stdout",
          "text": [
            "Pit stop time describtion\n",
            "count    19704.000000\n",
            "mean        26.546468\n",
            "std          5.884417\n",
            "min          8.757000\n",
            "25%         22.645000\n",
            "50%         25.145000\n",
            "75%         29.468000\n",
            "max         59.885000\n",
            "Name: Time, dtype: float64\n",
            "\n",
            "Pit lap describtion\n",
            "count    19704.000000\n",
            "mean        27.783293\n",
            "std         14.320064\n",
            "min          1.000000\n",
            "25%         17.000000\n",
            "50%         27.000000\n",
            "75%         39.000000\n",
            "max         78.000000\n",
            "Name: Lap, dtype: float64\n"
          ]
        }
      ]
    },
    {
      "cell_type": "markdown",
      "source": [
        "## Skweness Interpretation"
      ],
      "metadata": {
        "id": "_5qltho_WmQc"
      }
    },
    {
      "cell_type": "code",
      "source": [
        "plt.hist(df['Time'])\n",
        "plt.xlabel('Time')\n",
        "plt.show()\n",
        "print(f\"Skweness values for 'Time' is:{df['Time'].skew():.4f}\\n\")\n",
        "plt.hist(df['Lap'])\n",
        "plt.xlabel('Lap')\n",
        "plt.show()\n",
        "print(f\"Skweness values for 'Lap' is:{df['Lap'].skew():.4f}\")"
      ],
      "metadata": {
        "colab": {
          "base_uri": "https://localhost:8080/",
          "height": 936
        },
        "id": "KHhKBCdWWmc2",
        "outputId": "75fa1459-7f73-4c68-8976-4fcd9dcdc9e1"
      },
      "execution_count": 68,
      "outputs": [
        {
          "output_type": "display_data",
          "data": {
            "text/plain": [
              "<Figure size 640x480 with 1 Axes>"
            ],
            "image/png": "[encoded data removed]"
          },
          "metadata": {}
        },
        {
          "output_type": "stream",
          "name": "stdout",
          "text": [
            "Skweness values for 'Time' is:1.5405\n",
            "\n"
          ]
        },
        {
          "output_type": "display_data",
          "data": {
            "text/plain": [
              "<Figure size 640x480 with 1 Axes>"
            ],
            "image/png": "[encoded data removed]"
          },
          "metadata": {}
        },
        {
          "output_type": "stream",
          "name": "stdout",
          "text": [
            "Skweness values for 'Lap' is:0.1924\n"
          ]
        }
      ]
    },
    {
      "cell_type": "markdown",
      "source": [
        "The values of 'Time' is skewed to the right indicating that pitstop tend to be more quicker than it is slower.<br>\n",
        "Meanwhile, The values of 'Lap' is also skewed positively to the right meaning that the majority of pitstops happens early in the races."
      ],
      "metadata": {
        "id": "O4xgbgxyYF2P"
      }
    },
    {
      "cell_type": "markdown",
      "source": [
        "## Categorical features balance"
      ],
      "metadata": {
        "id": "844_x2YrYJ8S"
      }
    },
    {
      "cell_type": "code",
      "source": [
        "# Check the balance of the 'Driver' feature\n",
        "driver_counts = df['Driver'].value_counts().sample(frac = 1)\n",
        "print(\"Distribution of drivers:\")\n",
        "print(driver_counts)\n",
        "print(\"Number of unique drivers:\", len(driver_counts))\n",
        "plt.hist(driver_counts)\n",
        "plt.xlabel('Number of pitstops')\n",
        "plt.ylabel('Number of drivers')\n",
        "plt.show()\n",
        "print()\n",
        "\n",
        "# Check the balance of the 'Car' feature\n",
        "car_counts = df['Car'].value_counts().sample(frac = 1)\n",
        "print(\"Distribution of cars:\")\n",
        "print(car_counts)\n",
        "print(\"Number of unique cars:\", len(car_counts))\n",
        "plt.hist(car_counts)\n",
        "plt.xlabel('Number of pitstops')\n",
        "plt.ylabel('Number of Cars')\n",
        "plt.show()"
      ],
      "metadata": {
        "id": "VWK1t1vS4YUJ",
        "colab": {
          "base_uri": "https://localhost:8080/",
          "height": 1000
        },
        "outputId": "637bd532-fcf3-45c8-da51-64985b2386de"
      },
      "execution_count": 69,
      "outputs": [
        {
          "output_type": "stream",
          "name": "stdout",
          "text": [
            "Distribution of drivers:\n",
            "Daniel Ricciardo     449\n",
            "Toranosuke Takagi     36\n",
            "Sakon Yamamoto        31\n",
            "Romain Grosjean      303\n",
            "Rio Haryanto          25\n",
            "                    ... \n",
            "Gerhard Berger        91\n",
            "Bertrand Gachot       10\n",
            "Franck Montagny        8\n",
            "Nyck De Vries          2\n",
            "Jean Alesi           185\n",
            "Name: Driver, Length: 161, dtype: int64\n",
            "Number of unique drivers: 161\n"
          ]
        },
        {
          "output_type": "display_data",
          "data": {
            "text/plain": [
              "<Figure size 640x480 with 1 Axes>"
            ],
            "image/png": "[encoded data removed]"
          },
          "metadata": {}
        },
        {
          "output_type": "stream",
          "name": "stdout",
          "text": [
            "\n",
            "Distribution of cars:\n",
            "Benetton Renault           218\n",
            "Alpine Renault             198\n",
            "AlphaTauri Honda           120\n",
            "Benetton Ford               47\n",
            "Red Bull Racing Renault    428\n",
            "                          ... \n",
            "Sauber Ford                 88\n",
            "Super Aguri Honda          132\n",
            "Red Bull Renault           113\n",
            "Jordan Hart                 33\n",
            "Force India Mercedes       692\n",
            "Name: Car, Length: 99, dtype: int64\n",
            "Number of unique cars: 99\n"
          ]
        },
        {
          "output_type": "display_data",
          "data": {
            "text/plain": [
              "<Figure size 640x480 with 1 Axes>"
            ],
            "image/png": "[encoded data removed]"
          },
          "metadata": {}
        }
      ]
    },
    {
      "cell_type": "markdown",
      "source": [
        "As seen in both the histogram and the output series(`driver_counts,car_counts`), neither of the features 'Driver' nor 'Car' is balanced."
      ],
      "metadata": {
        "id": "pdaKYHqWcx4P"
      }
    },
    {
      "cell_type": "markdown",
      "source": [
        "## Correlated features"
      ],
      "metadata": {
        "id": "S_iPa9pIc1Rz"
      }
    },
    {
      "cell_type": "markdown",
      "source": [
        "### Potential correlation"
      ],
      "metadata": {
        "id": "V-RayW-nM2c8"
      }
    },
    {
      "cell_type": "code",
      "source": [
        "df['No']=df['No'].astype(str)\n",
        "numerical_df = df.select_dtypes(include=['number'])\n",
        "correlation_matrix = numerical_df.corr()\n",
        "\n",
        "plt.figure(figsize=(10, 8))\n",
        "plt.imshow(correlation_matrix, cmap='coolwarm', interpolation='nearest')\n",
        "\n",
        "\n",
        "plt.colorbar(label='Correlation')\n",
        "\n",
        "\n",
        "plt.title('Heatmap Correlation')\n",
        "\n",
        "plt.xticks(range(len(correlation_matrix)), correlation_matrix.columns, rotation=45)\n",
        "plt.yticks(range(len(correlation_matrix)), correlation_matrix.columns)\n",
        "\n",
        "for i in range(len(correlation_matrix)):\n",
        "    for j in range(len(correlation_matrix)):\n",
        "        plt.text(j, i, f'{correlation_matrix.iloc[i, j]:.2f}', ha='center', va='center', color='white')\n",
        "\n",
        "plt.show()"
      ],
      "metadata": {
        "colab": {
          "base_uri": "https://localhost:8080/",
          "height": 722
        },
        "id": "WT3g9e1eHcUH",
        "outputId": "32bde77f-fe81-48b4-86c1-10b81732d205"
      },
      "execution_count": 75,
      "outputs": [
        {
          "output_type": "display_data",
          "data": {
            "text/plain": [
              "<Figure size 1000x800 with 2 Axes>"
            ],
            "image/png": "[encoded data removed]"
          },
          "metadata": {}
        }
      ]
    },
    {
      "cell_type": "markdown",
      "source": [
        "In the correlation matrix for the dataframe, several correlations stand out. The most significant positive correlation exists between \"Stops\" and \"Lap\" variables, with a coefficient of approximately 0.59. This indicates that as the number of stops during a race increases, the number of laps completed also tends to rise, this is logical because every fixed number of “labs” theres one “Stop” so when the labs increase the stop number will also increase. Conversely, a notable negative correlation is observed between \"Time\" and \"Year\" variables, with a coefficient of around -0.41. This suggests that as the years progress, there is a noticeable decrease in the time needed for the car to finish the pit, due to FIA[1] decision to stop refueling cars and possibly indicating advancements in technology, efficiency, or strategy over time.\n",
        "\n",
        "[1] Fia: The Fédération Internationale de l'Automobile is an association established on 20 June 1904 to represent the interests of motoring organisations and motor car users. It is the governing body for many auto racing events, including Formula One. The FIA also promotes road safety around the world. https://en.wikipedia.org/wiki/F%C3%A9d%C3%A9ration_Internationale_de_l'Automobile"
      ],
      "metadata": {
        "id": "HS2oUiK6N_8k"
      }
    },
    {
      "cell_type": "markdown",
      "source": [
        "### Record some race's data into a seprate data frame"
      ],
      "metadata": {
        "id": "TE7iBrOmq7u-"
      }
    },
    {
      "cell_type": "code",
      "source": [
        "race_name='Saudi Arabia'\n",
        "\n",
        "race = df[df['Grand Prix']==race_name].reset_index()\n",
        "race.drop(columns='index',inplace=True)\n",
        "race.head()"
      ],
      "metadata": {
        "colab": {
          "base_uri": "https://localhost:8080/",
          "height": 0
        },
        "id": "LOygMfnnCE1m",
        "outputId": "ca0e9121-ec70-477b-a7e6-0c6db1c8d7b7"
      },
      "execution_count": 71,
      "outputs": [
        {
          "output_type": "execute_result",
          "data": {
            "text/plain": [
              "   Stops  No           Driver                    Car  Lap    Time   Total  \\\n",
              "0      1  18     Lance Stroll  Aston Martin Mercedes    9  27.165  27.165   \n",
              "1      1  63   George Russell      Williams Mercedes    9  20.519  20.519   \n",
              "2      1  44   Lewis Hamilton               Mercedes   10  20.580  20.580   \n",
              "3      1  77  Valtteri Bottas               Mercedes   10  21.668  21.668   \n",
              "4      1  16  Charles Leclerc                Ferrari   10  20.531  20.531   \n",
              "\n",
              "   Year    Grand Prix  \n",
              "0  2021  Saudi Arabia  \n",
              "1  2021  Saudi Arabia  \n",
              "2  2021  Saudi Arabia  \n",
              "3  2021  Saudi Arabia  \n",
              "4  2021  Saudi Arabia  "
            ],
            "text/html": [
              "\n",
              "  <div id=\"df-30c9fa8a-1e05-41e6-8f89-1ece15a65ba0\" class=\"colab-df-container\">\n",
              "    <div>\n",
              "<style scoped>\n",
              "    .dataframe tbody tr th:only-of-type {\n",
              "        vertical-align: middle;\n",
              "    }\n",
              "\n",
              "    .dataframe tbody tr th {\n",
              "        vertical-align: top;\n",
              "    }\n",
              "\n",
              "    .dataframe thead th {\n",
              "        text-align: right;\n",
              "    }\n",
              "</style>\n",
              "<table border=\"1\" class=\"dataframe\">\n",
              "  <thead>\n",
              "    <tr style=\"text-align: right;\">\n",
              "      <th></th>\n",
              "      <th>Stops</th>\n",
              "      <th>No</th>\n",
              "      <th>Driver</th>\n",
              "      <th>Car</th>\n",
              "      <th>Lap</th>\n",
              "      <th>Time</th>\n",
              "      <th>Total</th>\n",
              "      <th>Year</th>\n",
              "      <th>Grand Prix</th>\n",
              "    </tr>\n",
              "  </thead>\n",
              "  <tbody>\n",
              "    <tr>\n",
              "      <th>0</th>\n",
              "      <td>1</td>\n",
              "      <td>18</td>\n",
              "      <td>Lance Stroll</td>\n",
              "      <td>Aston Martin Mercedes</td>\n",
              "      <td>9</td>\n",
              "      <td>27.165</td>\n",
              "      <td>27.165</td>\n",
              "      <td>2021</td>\n",
              "      <td>Saudi Arabia</td>\n",
              "    </tr>\n",
              "    <tr>\n",
              "      <th>1</th>\n",
              "      <td>1</td>\n",
              "      <td>63</td>\n",
              "      <td>George Russell</td>\n",
              "      <td>Williams Mercedes</td>\n",
              "      <td>9</td>\n",
              "      <td>20.519</td>\n",
              "      <td>20.519</td>\n",
              "      <td>2021</td>\n",
              "      <td>Saudi Arabia</td>\n",
              "    </tr>\n",
              "    <tr>\n",
              "      <th>2</th>\n",
              "      <td>1</td>\n",
              "      <td>44</td>\n",
              "      <td>Lewis Hamilton</td>\n",
              "      <td>Mercedes</td>\n",
              "      <td>10</td>\n",
              "      <td>20.580</td>\n",
              "      <td>20.580</td>\n",
              "      <td>2021</td>\n",
              "      <td>Saudi Arabia</td>\n",
              "    </tr>\n",
              "    <tr>\n",
              "      <th>3</th>\n",
              "      <td>1</td>\n",
              "      <td>77</td>\n",
              "      <td>Valtteri Bottas</td>\n",
              "      <td>Mercedes</td>\n",
              "      <td>10</td>\n",
              "      <td>21.668</td>\n",
              "      <td>21.668</td>\n",
              "      <td>2021</td>\n",
              "      <td>Saudi Arabia</td>\n",
              "    </tr>\n",
              "    <tr>\n",
              "      <th>4</th>\n",
              "      <td>1</td>\n",
              "      <td>16</td>\n",
              "      <td>Charles Leclerc</td>\n",
              "      <td>Ferrari</td>\n",
              "      <td>10</td>\n",
              "      <td>20.531</td>\n",
              "      <td>20.531</td>\n",
              "      <td>2021</td>\n",
              "      <td>Saudi Arabia</td>\n",
              "    </tr>\n",
              "  </tbody>\n",
              "</table>\n",
              "</div>\n",
              "    <div class=\"colab-df-buttons\">\n",
              "\n",
              "  <div class=\"colab-df-container\">\n",
              "    <button class=\"colab-df-convert\" onclick=\"convertToInteractive('df-30c9fa8a-1e05-41e6-8f89-1ece15a65ba0')\"\n",
              "            title=\"Convert this dataframe to an interactive table.\"\n",
              "            style=\"display:none;\">\n",
              "\n",
              "  <svg xmlns=\"http://www.w3.org/2000/svg\" height=\"24px\" viewBox=\"0 -960 960 960\">\n",
              "    <path d=\"M120-120v-720h720v720H120Zm60-500h600v-160H180v160Zm220 220h160v-160H400v160Zm0 220h160v-160H400v160ZM180-400h160v-160H180v160Zm440 0h160v-160H620v160ZM180-180h160v-160H180v160Zm440 0h160v-160H620v160Z\"/>\n",
              "  </svg>\n",
              "    </button>\n",
              "\n",
              "  <style>\n",
              "    .colab-df-container {\n",
              "      display:flex;\n",
              "      gap: 12px;\n",
              "    }\n",
              "\n",
              "    .colab-df-convert {\n",
              "      background-color: #E8F0FE;\n",
              "      border: none;\n",
              "      border-radius: 50%;\n",
              "      cursor: pointer;\n",
              "      display: none;\n",
              "      fill: #1967D2;\n",
              "      height: 32px;\n",
              "      padding: 0 0 0 0;\n",
              "      width: 32px;\n",
              "    }\n",
              "\n",
              "    .colab-df-convert:hover {\n",
              "      background-color: #E2EBFA;\n",
              "      box-shadow: 0px 1px 2px rgba(60, 64, 67, 0.3), 0px 1px 3px 1px rgba(60, 64, 67, 0.15);\n",
              "      fill: #174EA6;\n",
              "    }\n",
              "\n",
              "    .colab-df-buttons div {\n",
              "      margin-bottom: 4px;\n",
              "    }\n",
              "\n",
              "    [theme=dark] .colab-df-convert {\n",
              "      background-color: #3B4455;\n",
              "      fill: #D2E3FC;\n",
              "    }\n",
              "\n",
              "    [theme=dark] .colab-df-convert:hover {\n",
              "      background-color: #434B5C;\n",
              "      box-shadow: 0px 1px 3px 1px rgba(0, 0, 0, 0.15);\n",
              "      filter: drop-shadow(0px 1px 2px rgba(0, 0, 0, 0.3));\n",
              "      fill: #FFFFFF;\n",
              "    }\n",
              "  </style>\n",
              "\n",
              "    <script>\n",
              "      const buttonEl =\n",
              "        document.querySelector('#df-30c9fa8a-1e05-41e6-8f89-1ece15a65ba0 button.colab-df-convert');\n",
              "      buttonEl.style.display =\n",
              "        google.colab.kernel.accessAllowed ? 'block' : 'none';\n",
              "\n",
              "      async function convertToInteractive(key) {\n",
              "        const element = document.querySelector('#df-30c9fa8a-1e05-41e6-8f89-1ece15a65ba0');\n",
              "        const dataTable =\n",
              "          await google.colab.kernel.invokeFunction('convertToInteractive',\n",
              "                                                    [key], {});\n",
              "        if (!dataTable) return;\n",
              "\n",
              "        const docLinkHtml = 'Like what you see? Visit the ' +\n",
              "          '<a target=\"_blank\" href=https://colab.research.google.com/notebooks/data_table.ipynb>data table notebook</a>'\n",
              "          + ' to learn more about interactive tables.';\n",
              "        element.innerHTML = '';\n",
              "        dataTable['output_type'] = 'display_data';\n",
              "        await google.colab.output.renderOutput(dataTable, element);\n",
              "        const docLink = document.createElement('div');\n",
              "        docLink.innerHTML = docLinkHtml;\n",
              "        element.appendChild(docLink);\n",
              "      }\n",
              "    </script>\n",
              "  </div>\n",
              "\n",
              "\n",
              "<div id=\"df-63cac356-72bc-435d-9a15-b92eee77bc28\">\n",
              "  <button class=\"colab-df-quickchart\" onclick=\"quickchart('df-63cac356-72bc-435d-9a15-b92eee77bc28')\"\n",
              "            title=\"Suggest charts\"\n",
              "            style=\"display:none;\">\n",
              "\n",
              "<svg xmlns=\"http://www.w3.org/2000/svg\" height=\"24px\"viewBox=\"0 0 24 24\"\n",
              "     width=\"24px\">\n",
              "    <g>\n",
              "        <path d=\"M19 3H5c-1.1 0-2 .9-2 2v14c0 1.1.9 2 2 2h14c1.1 0 2-.9 2-2V5c0-1.1-.9-2-2-2zM9 17H7v-7h2v7zm4 0h-2V7h2v10zm4 0h-2v-4h2v4z\"/>\n",
              "    </g>\n",
              "</svg>\n",
              "  </button>\n",
              "\n",
              "<style>\n",
              "  .colab-df-quickchart {\n",
              "      --bg-color: #E8F0FE;\n",
              "      --fill-color: #1967D2;\n",
              "      --hover-bg-color: #E2EBFA;\n",
              "      --hover-fill-color: #174EA6;\n",
              "      --disabled-fill-color: #AAA;\n",
              "      --disabled-bg-color: #DDD;\n",
              "  }\n",
              "\n",
              "  [theme=dark] .colab-df-quickchart {\n",
              "      --bg-color: #3B4455;\n",
              "      --fill-color: #D2E3FC;\n",
              "      --hover-bg-color: #434B5C;\n",
              "      --hover-fill-color: #FFFFFF;\n",
              "      --disabled-bg-color: #3B4455;\n",
              "      --disabled-fill-color: #666;\n",
              "  }\n",
              "\n",
              "  .colab-df-quickchart {\n",
              "    background-color: var(--bg-color);\n",
              "    border: none;\n",
              "    border-radius: 50%;\n",
              "    cursor: pointer;\n",
              "    display: none;\n",
              "    fill: var(--fill-color);\n",
              "    height: 32px;\n",
              "    padding: 0;\n",
              "    width: 32px;\n",
              "  }\n",
              "\n",
              "  .colab-df-quickchart:hover {\n",
              "    background-color: var(--hover-bg-color);\n",
              "    box-shadow: 0 1px 2px rgba(60, 64, 67, 0.3), 0 1px 3px 1px rgba(60, 64, 67, 0.15);\n",
              "    fill: var(--button-hover-fill-color);\n",
              "  }\n",
              "\n",
              "  .colab-df-quickchart-complete:disabled,\n",
              "  .colab-df-quickchart-complete:disabled:hover {\n",
              "    background-color: var(--disabled-bg-color);\n",
              "    fill: var(--disabled-fill-color);\n",
              "    box-shadow: none;\n",
              "  }\n",
              "\n",
              "  .colab-df-spinner {\n",
              "    border: 2px solid var(--fill-color);\n",
              "    border-color: transparent;\n",
              "    border-bottom-color: var(--fill-color);\n",
              "    animation:\n",
              "      spin 1s steps(1) infinite;\n",
              "  }\n",
              "\n",
              "  @keyframes spin {\n",
              "    0% {\n",
              "      border-color: transparent;\n",
              "      border-bottom-color: var(--fill-color);\n",
              "      border-left-color: var(--fill-color);\n",
              "    }\n",
              "    20% {\n",
              "      border-color: transparent;\n",
              "      border-left-color: var(--fill-color);\n",
              "      border-top-color: var(--fill-color);\n",
              "    }\n",
              "    30% {\n",
              "      border-color: transparent;\n",
              "      border-left-color: var(--fill-color);\n",
              "      border-top-color: var(--fill-color);\n",
              "      border-right-color: var(--fill-color);\n",
              "    }\n",
              "    40% {\n",
              "      border-color: transparent;\n",
              "      border-right-color: var(--fill-color);\n",
              "      border-top-color: var(--fill-color);\n",
              "    }\n",
              "    60% {\n",
              "      border-color: transparent;\n",
              "      border-right-color: var(--fill-color);\n",
              "    }\n",
              "    80% {\n",
              "      border-color: transparent;\n",
              "      border-right-color: var(--fill-color);\n",
              "      border-bottom-color: var(--fill-color);\n",
              "    }\n",
              "    90% {\n",
              "      border-color: transparent;\n",
              "      border-bottom-color: var(--fill-color);\n",
              "    }\n",
              "  }\n",
              "</style>\n",
              "\n",
              "  <script>\n",
              "    async function quickchart(key) {\n",
              "      const quickchartButtonEl =\n",
              "        document.querySelector('#' + key + ' button');\n",
              "      quickchartButtonEl.disabled = true;  // To prevent multiple clicks.\n",
              "      quickchartButtonEl.classList.add('colab-df-spinner');\n",
              "      try {\n",
              "        const charts = await google.colab.kernel.invokeFunction(\n",
              "            'suggestCharts', [key], {});\n",
              "      } catch (error) {\n",
              "        console.error('Error during call to suggestCharts:', error);\n",
              "      }\n",
              "      quickchartButtonEl.classList.remove('colab-df-spinner');\n",
              "      quickchartButtonEl.classList.add('colab-df-quickchart-complete');\n",
              "    }\n",
              "    (() => {\n",
              "      let quickchartButtonEl =\n",
              "        document.querySelector('#df-63cac356-72bc-435d-9a15-b92eee77bc28 button');\n",
              "      quickchartButtonEl.style.display =\n",
              "        google.colab.kernel.accessAllowed ? 'block' : 'none';\n",
              "    })();\n",
              "  </script>\n",
              "</div>\n",
              "\n",
              "    </div>\n",
              "  </div>\n"
            ],
            "application/vnd.google.colaboratory.intrinsic+json": {
              "type": "dataframe",
              "variable_name": "race",
              "summary": "{\n  \"name\": \"race\",\n  \"rows\": 57,\n  \"fields\": [\n    {\n      \"column\": \"Stops\",\n      \"properties\": {\n        \"dtype\": \"number\",\n        \"std\": 0,\n        \"min\": 1,\n        \"max\": 4,\n        \"num_unique_values\": 4,\n        \"samples\": [\n          3,\n          2,\n          1\n        ],\n        \"semantic_type\": \"\",\n        \"description\": \"\"\n      }\n    },\n    {\n      \"column\": \"No\",\n      \"properties\": {\n        \"dtype\": \"category\",\n        \"num_unique_values\": 20,\n        \"samples\": [\n          \"18\",\n          \"24\",\n          \"55\"\n        ],\n        \"semantic_type\": \"\",\n        \"description\": \"\"\n      }\n    },\n    {\n      \"column\": \"Driver\",\n      \"properties\": {\n        \"dtype\": \"category\",\n        \"num_unique_values\": 20,\n        \"samples\": [\n          \"Lance Stroll\",\n          \"Zhou Guanyu\",\n          \"Carlos Sainz\"\n        ],\n        \"semantic_type\": \"\",\n        \"description\": \"\"\n      }\n    },\n    {\n      \"column\": \"Car\",\n      \"properties\": {\n        \"dtype\": \"category\",\n        \"num_unique_values\": 14,\n        \"samples\": [\n          \"Aston Martin Aramco Mercedes\",\n          \"AlphaTauri RBPT\",\n          \"Aston Martin Mercedes\"\n        ],\n        \"semantic_type\": \"\",\n        \"description\": \"\"\n      }\n    },\n    {\n      \"column\": \"Lap\",\n      \"properties\": {\n        \"dtype\": \"number\",\n        \"std\": 9,\n        \"min\": 8,\n        \"max\": 44,\n        \"num_unique_values\": 13,\n        \"samples\": [\n          37,\n          27,\n          9\n        ],\n        \"semantic_type\": \"\",\n        \"description\": \"\"\n      }\n    },\n    {\n      \"column\": \"Time\",\n      \"properties\": {\n        \"dtype\": \"number\",\n        \"std\": 3.5053499476712875,\n        \"min\": 15.103,\n        \"max\": 34.489,\n        \"num_unique_values\": 37,\n        \"samples\": [\n          21.038,\n          22.339000000000002,\n          20.531\n        ],\n        \"semantic_type\": \"\",\n        \"description\": \"\"\n      }\n    },\n    {\n      \"column\": \"Total\",\n      \"properties\": {\n        \"dtype\": \"string\",\n        \"num_unique_values\": 38,\n        \"samples\": [\n          \"20.481\",\n          \"48.837\",\n          \"20.531\"\n        ],\n        \"semantic_type\": \"\",\n        \"description\": \"\"\n      }\n    },\n    {\n      \"column\": \"Year\",\n      \"properties\": {\n        \"dtype\": \"number\",\n        \"std\": 0,\n        \"min\": 2021,\n        \"max\": 2022,\n        \"num_unique_values\": 2,\n        \"samples\": [\n          2022,\n          2021\n        ],\n        \"semantic_type\": \"\",\n        \"description\": \"\"\n      }\n    },\n    {\n      \"column\": \"Grand Prix\",\n      \"properties\": {\n        \"dtype\": \"category\",\n        \"num_unique_values\": 1,\n        \"samples\": [\n          \"Saudi Arabia\"\n        ],\n        \"semantic_type\": \"\",\n        \"description\": \"\"\n      }\n    }\n  ]\n}"
            }
          },
          "metadata": {},
          "execution_count": 71
        }
      ]
    },
    {
      "cell_type": "markdown",
      "source": [
        "### Average pistop times thoughout the years"
      ],
      "metadata": {
        "id": "bC-azAkyqame"
      }
    },
    {
      "cell_type": "code",
      "source": [
        "pitstop_data=df\n",
        "\n",
        "pitstop_data['Year'] = pd.to_datetime(pitstop_data['Year'], format='%Y')\n",
        "pitstop_data['Time'] = pd.to_numeric(pitstop_data['Time'], errors='coerce')\n",
        "pitstop_grouped = pitstop_data.groupby(pitstop_data['Year'])['Time'].mean().reset_index()\n",
        "pitstop_grouped = pitstop_grouped.rename(columns={'Time': 'Average'})\n",
        "pitstop_grouped = pitstop_grouped.sort_values('Year')\n",
        "plt.plot(pitstop_grouped['Year'],pitstop_grouped['Average'])\n",
        "plt.xlabel('Year')\n",
        "plt.ylabel('Average Time')\n",
        "plt.show()"
      ],
      "metadata": {
        "colab": {
          "base_uri": "https://localhost:8080/",
          "height": 449
        },
        "id": "PAU7T07wmuaL",
        "outputId": "e8072a86-90bf-4f12-97e9-ac7ca2c247a5"
      },
      "execution_count": 72,
      "outputs": [
        {
          "output_type": "display_data",
          "data": {
            "text/plain": [
              "<Figure size 640x480 with 1 Axes>"
            ],
            "image/png": "[encoded data removed]"
          },
          "metadata": {}
        }
      ]
    },
    {
      "cell_type": "markdown",
      "source": [
        "This histogram plot proofs our heat map's analysis right, as the time passes the 'Time' decreases which is a negative correlation.<br>\n",
        "**PS**: In the year 2008, the FIA decided to bring back car refueling which was cancel later, this explains the spike in the graph."
      ],
      "metadata": {
        "id": "dFCOcx7ZrYq8"
      }
    },
    {
      "cell_type": "markdown",
      "source": [
        "### Average pitstop for teams"
      ],
      "metadata": {
        "id": "3piiorL4qWX3"
      }
    },
    {
      "cell_type": "code",
      "source": [
        "pitstop_data=race\n",
        "\n",
        "pitstop_data['Time'] = pd.to_numeric(pitstop_data['Time'], errors='coerce')\n",
        "\n",
        "pitstop_grouped = pitstop_data.groupby(pitstop_data['Car'])['Time'].mean().reset_index()\n",
        "\n",
        "pitstop_grouped = pitstop_grouped.rename(columns={'Time': 'Average'})\n",
        "\n",
        "pitstop_grouped = pitstop_grouped.sort_values('Average')\n",
        "\n",
        "plt.plot(pitstop_grouped['Average'],pitstop_grouped['Car'])\n",
        "plt.xlabel('Time')\n",
        "plt.ylabel('Car')\n",
        "plt.show()"
      ],
      "metadata": {
        "colab": {
          "base_uri": "https://localhost:8080/",
          "height": 449
        },
        "id": "1TMp5_1sDy-P",
        "outputId": "52809561-9d70-4fce-a136-4906f7ad8d0a"
      },
      "execution_count": 76,
      "outputs": [
        {
          "output_type": "display_data",
          "data": {
            "text/plain": [
              "<Figure size 640x480 with 1 Axes>"
            ],
            "image/png": "[encoded data removed]"
          },
          "metadata": {}
        }
      ]
    },
    {
      "cell_type": "markdown",
      "source": [
        "## Possible Index feature\n"
      ],
      "metadata": {
        "id": "E1G0Pod3oiKG"
      }
    },
    {
      "cell_type": "code",
      "source": [
        "df.nunique() == len(df)"
      ],
      "metadata": {
        "colab": {
          "base_uri": "https://localhost:8080/"
        },
        "id": "Xk1AP_WtOP-v",
        "outputId": "f7a294b3-370c-42a9-9d06-d6e92b02597a"
      },
      "execution_count": 74,
      "outputs": [
        {
          "output_type": "execute_result",
          "data": {
            "text/plain": [
              "Stops         False\n",
              "No            False\n",
              "Driver        False\n",
              "Car           False\n",
              "Lap           False\n",
              "Time          False\n",
              "Total         False\n",
              "Year          False\n",
              "Grand Prix    False\n",
              "dtype: bool"
            ]
          },
          "metadata": {},
          "execution_count": 74
        }
      ]
    },
    {
      "cell_type": "markdown",
      "source": [
        "No, there cant be a single feature that acts as an index for the dataset, non of the columns are unique and can be used as an identifier. Meanwhile a set of features can be used as index the best practice is to use the features {No(raceId),Driver,Stop} as no driver will do any duplicate 'Stop' in a single race."
      ],
      "metadata": {
        "id": "OimmlkRSo8tY"
      }
    }
  ]
}